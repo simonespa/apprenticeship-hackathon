{
 "cells": [
  {
   "cell_type": "code",
   "execution_count": 11,
   "id": "ddef7a18-39e7-43af-85cd-bd6c4912dfd3",
   "metadata": {},
   "outputs": [],
   "source": [
    "import pandas as pd\n",
    "\n",
    "random_state=137"
   ]
  },
  {
   "cell_type": "code",
   "execution_count": 12,
   "id": "059ef090-6553-4af9-a6f3-4ac6b1987d67",
   "metadata": {},
   "outputs": [],
   "source": [
    "covid = pd.read_csv('data/corona_tested_individuals_ver_006.english.csv', low_memory=False)"
   ]
  },
  {
   "cell_type": "code",
   "execution_count": 13,
   "id": "d7e59e67-188a-40f0-9566-1ed86bcaa295",
   "metadata": {},
   "outputs": [],
   "source": [
    "from sklearn.pipeline import Pipeline\n",
    "from sklearn.compose import ColumnTransformer\n",
    "\n",
    "num_features = []\n",
    "cat_features = []\n",
    "\n",
    "num_transformer = Pipeline([])\n",
    "\n",
    "cat_transformer = Pipeline([])\n",
    "\n",
    "preprocessor = ColumnTransformer(\n",
    "    transformers=[\n",
    "        ('num', num_transformer, num_features),\n",
    "        ('cat', cat_transformer, cat_features)\n",
    "    ]\n",
    ")\n",
    "\n",
    "model = Pipeline([\n",
    "    ('preprocessor', preprocessor),\n",
    "    # ('scaler', MaxAbsScaler()),\n",
    "    ('classifier', XGBClassifier()) \n",
    "])"
   ]
  }
 ],
 "metadata": {
  "kernelspec": {
   "display_name": "Python 3 (ipykernel)",
   "language": "python",
   "name": "python3"
  },
  "language_info": {
   "codemirror_mode": {
    "name": "ipython",
    "version": 3
   },
   "file_extension": ".py",
   "mimetype": "text/x-python",
   "name": "python",
   "nbconvert_exporter": "python",
   "pygments_lexer": "ipython3",
   "version": "3.11.7"
  },
  "widgets": {
   "application/vnd.jupyter.widget-state+json": {
    "state": {},
    "version_major": 2,
    "version_minor": 0
   }
  }
 },
 "nbformat": 4,
 "nbformat_minor": 5
}
