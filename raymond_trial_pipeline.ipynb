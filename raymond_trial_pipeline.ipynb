{
 "cells": [
  {
   "cell_type": "markdown",
   "id": "4856f239-2302-4dec-a5b9-2413762b3ae6",
   "metadata": {},
   "source": [
    "# Hackathon\n",
    "\n",
    "The L7 AI Hackathon will give you an opportunity to work in a team of four/five to test your new data science and ML skills. You will be required to deliver a 15mins presentation (10mins presentation and 5mins for Q&A) about your learning journey in the programme & the outcome of your work.\n",
    "\n",
    "You are going to be provided with a sample of possible questions to investigate and tasks to undertake. However, you are free to design your own tasks as a team and augment the initial datasets for your own analysis.\n",
    "\n",
    "In this hackathon, we want you to build machine learning models to predict COVID-19 infections from symptoms. It has several applications – for example, triaging patients to be attended by a doctor or nurse, recommending self-isolation through contact tracing apps, etc.\n",
    "\n",
    "Zoabi et al. ([link here](https://www.nature.com/articles/s41746-020-00372-6)) [1] builds a decision tree classifier using the publicly available data reported by the Israeli Ministry of Health. The paper itself discusses the various challenges encountered in deploying such a model. We encourage you to read the paper and learn the challenges and ways to overcome them. We will be using the dataset in this paper (Github link in the references).\n",
    "\n",
    "## References\n",
    "\n",
    "[1] Zoabi, Y., Deri-Rozov, S. & Shomron, N. Machine learning-based prediction of COVID-19 diagnosis based on symptoms. npj Digit. Med. 4, 3 (2021).\n",
    "\n",
    "[2] [Github link](https://github.com/nshomron/covidpred/tree/master) referenced in the paper. The main page of the Github repository mentions that the data file, `corona_tested_individuals_ver_006.english.csv.zip` was the version they used for the analysis. It is also the version we will use for this hackathon.\n",
    "\n",
    "## Presentation\n",
    "\n",
    "On Day 2, between 3-5PM, your team will deliver a presentation of your findings and experience for 10 minutes followed by 5 minutes of Q&A from your peers.\n",
    "\n",
    "The presentation should cover (non-exhaustively) the following components:\n",
    "\n",
    "- Briefly define the problem\n",
    "- Briefly describe the dataset\n",
    "- What did you learn about various models/techniques/etc.?\n",
    "- What’s the AUC score of your final model?\n",
    "\n",
    "Below are a list of potential questions and directions that you can explore but you are free and encouraged to be creative and explore other directions to apply your ML skills\n",
    "\n",
    "## Exploratory Data Analysis\n",
    "\n",
    "- Think about possible biases and limitations of this dataset. What are the sources of uncertainty?\n",
    "- What is the format of feature values?\n",
    "- What is the statistics of these feature values? How many symptoms are reported or not?\n",
    "- Which symptoms have a reporting bias, i.e., likely to be reported when the patient is COVID positive?\n",
    "- How will the symptoms with reporting bias affect the model’s performance?\n",
    "- Visualization: Draw the bar graph of features grouped by the target class?\n",
    "- What does the bar graph of the symptoms with reporting bias look like?\n",
    "- Determine if we have a class imbalance in the dataset? If so, what do you reckon will be the downstream challenges in evaluating the model? How will you overcome those challenges?\n",
    "\n",
    "## Feature Engineering\n",
    "\n",
    "- How will you represent the features in numerical format that can be accessible by model?\n",
    "- Are there any redundancies in your feature representation?\n",
    "\n",
    "## Models\n",
    "\n",
    "- Check out various classifiers in sklearn or any other preferred library to build your models\n",
    "\n",
    "## Evaluate\n",
    "\n",
    "- Is accuracy the right metric to evaluate the model? Are inaccuracies correctly penalized in the accuracy metric?\n",
    "- Which dataset should you choose to evaluate the model? Validation or Test?\n",
    "- What other metric is relevant in our context?\n",
    "\n",
    "For benchmarking everyone’s results we will stick to ROC-AUC score as a metric.\n",
    "\n",
    "## Report your result\n",
    "\n",
    "- With the metric chosen, report your result on the test dataset.\n",
    "- How will you select the threshold for your model above which model score will be interpreted as a prediction of positive diagnosis.\n",
    "\n",
    "## Extras\n",
    "\n",
    "- Dimensionality Reduction for fun: Can you reduce the dimension to just 2 dimensions and check if the inputs corresponding to different classes belong to different clusters? Try using t-SNE or UMAP for that purpose.\n",
    "- Collaborate with Ensemble: Can you combine other models?"
   ]
  },
  {
   "cell_type": "markdown",
   "id": "ac7f4693-c680-40e6-b983-29b236d4ac8e",
   "metadata": {},
   "source": [
    "# Start"
   ]
  },
  {
   "cell_type": "code",
   "execution_count": 50,
   "id": "4e9f2902-b646-4e42-bb87-92a7c1d082cb",
   "metadata": {
    "ExecuteTime": {
     "end_time": "2024-02-14T17:11:24.939959510Z",
     "start_time": "2024-02-14T17:11:24.936037450Z"
    }
   },
   "outputs": [],
   "source": [
    "import pandas as pd\n",
    "\n",
    "RANDOM_STATE=137"
   ]
  },
  {
   "cell_type": "code",
   "execution_count": 51,
   "id": "0e4f6ecf-3786-47ac-ad9f-f637abba0bb6",
   "metadata": {},
   "outputs": [
    {
     "name": "stdout",
     "output_type": "stream",
     "text": [
      "<class 'pandas.core.frame.DataFrame'>\n",
      "RangeIndex: 274702 entries, 0 to 274701\n",
      "Data columns (total 8 columns):\n",
      " #   Column                 Non-Null Count   Dtype \n",
      "---  ------                 --------------   ----- \n",
      " 0   test_date              274702 non-null  object\n",
      " 1   cough                  274702 non-null  int64 \n",
      " 2   fever                  274702 non-null  int64 \n",
      " 3   sore_throat            274702 non-null  int64 \n",
      " 4   shortness_of_breath    274702 non-null  int64 \n",
      " 5   head_ache              274702 non-null  int64 \n",
      " 6   test_indication        274702 non-null  object\n",
      " 7   encoded_corona_result  274702 non-null  int64 \n",
      "dtypes: int64(6), object(2)\n",
      "memory usage: 16.8+ MB\n"
     ]
    }
   ],
   "source": [
    "dtype = {\n",
    "    'cough': 'float32',\n",
    "    'fever': 'float32',\n",
    "    'sore_throat': 'float32',\n",
    "    'shortness_of_breath': 'float32',\n",
    "    'head_ache': 'float32',\n",
    "    'corona_result': 'str',\n",
    "    'age_60_and_above': 'str',\n",
    "    'gender': 'str',\n",
    "    'test_indication': 'str'\n",
    "}\n",
    "covid = pd.read_csv('data/corona_dataset_preprocessed.csv')\n",
    "covid.info()"
   ]
  },
  {
   "cell_type": "code",
   "execution_count": 52,
   "id": "8c5cedeb-6aa5-4c4c-bef9-7985433b0057",
   "metadata": {},
   "outputs": [
    {
     "data": {
      "text/plain": [
       "test_date                0\n",
       "cough                    0\n",
       "fever                    0\n",
       "sore_throat              0\n",
       "shortness_of_breath      0\n",
       "head_ache                0\n",
       "test_indication          0\n",
       "encoded_corona_result    0\n",
       "dtype: int64"
      ]
     },
     "execution_count": 52,
     "metadata": {},
     "output_type": "execute_result"
    }
   ],
   "source": [
    "covid.isna().sum()"
   ]
  },
  {
   "cell_type": "code",
   "execution_count": 53,
   "id": "e69a2aa4-fedb-4be3-83a2-1e5c7e315ed9",
   "metadata": {},
   "outputs": [],
   "source": [
    "# covid = covid.drop(columns=['age_60_and_above', 'gender', 'test_date'])"
   ]
  },
  {
   "cell_type": "code",
   "execution_count": 54,
   "id": "a8ade186-a7d9-4960-92d0-1607c0d9bd16",
   "metadata": {},
   "outputs": [],
   "source": [
    "from sklearn.pipeline import Pipeline\n",
    "\n",
    "from sklearn.impute import SimpleImputer\n",
    "\n",
    "from sklearn.preprocessing import OneHotEncoder\n",
    "from sklearn.preprocessing import StandardScaler\n",
    "from sklearn.preprocessing import MaxAbsScaler\n",
    "\n",
    "from sklearn.compose import ColumnTransformer\n",
    "\n",
    "from sklearn.model_selection import GridSearchCV\n",
    "from sklearn.model_selection import train_test_split\n",
    "\n",
    "\n",
    "# Models\n",
    "from sklearn.linear_model import LogisticRegression\n",
    "from xgboost import XGBClassifier\n",
    "from sklearn.tree import DecisionTreeClassifier\n",
    "\n",
    "# Evaluation Metric\n",
    "from sklearn.metrics import roc_auc_score"
   ]
  },
  {
   "cell_type": "code",
   "execution_count": 55,
   "id": "3399cd8b-b102-4d0e-8c41-43d55634f4ba",
   "metadata": {},
   "outputs": [],
   "source": [
    "# TODO: (Feature engineer) Binarisation of \"confirmed_contact\" feature (and \"abroad\") - kind of done\n",
    "\n",
    "# TODO: Plot precision recall curve - Done\n",
    "\n",
    "# TODO: (Address class imbalancing) SMOTE - GB - Done\n",
    "\n",
    "# TODO: Stacking classifier - GB"
   ]
  },
  {
   "cell_type": "code",
   "execution_count": 56,
   "id": "2280b3da-0c33-4438-893a-e513fcba61bb",
   "metadata": {},
   "outputs": [],
   "source": [
    "# Binarisation of confirmed_contact\n",
    "\n",
    "# confirmed_contact = [1 if value == \"Contact with confirmed\" else 0 for value in covid['test_indication']]\n",
    "# abroad = [1 if value == \"Abroad\" else 0 for value in covid['test_indication']]"
   ]
  },
  {
   "cell_type": "code",
   "execution_count": 57,
   "id": "6f41cd64-3083-4a9c-84b9-ce9f7427a99d",
   "metadata": {},
   "outputs": [],
   "source": [
    "# covid[\"confirmed_contact\"] = confirmed_contact\n",
    "# covid[\"abroad\"] = abroad\n",
    "\n",
    "# covid = covid.drop(columns=[\"test_indication\"])"
   ]
  },
  {
   "cell_type": "code",
   "execution_count": 58,
   "id": "1d89eca2-f45a-426c-b161-7aef71707f4a",
   "metadata": {},
   "outputs": [],
   "source": [
    "# covid.loc[covid['encoded_corona_result'] == 1]"
   ]
  },
  {
   "cell_type": "code",
   "execution_count": 59,
   "id": "6de1f549-9425-41ea-b500-261a7fdfd7c8",
   "metadata": {},
   "outputs": [],
   "source": [
    "num_features = [\n",
    "    'cough', \n",
    "    'fever', \n",
    "    'sore_throat', \n",
    "    'shortness_of_breath', \n",
    "    'head_ache', \n",
    "    # 'confirmed_contact', \n",
    "    # 'abroad'\n",
    "]\n",
    "cat_features = [\n",
    "    'test_indication', \n",
    "    # 'age_60_and_above', \n",
    "    # 'gender'\n",
    "]\n",
    "\n",
    "num_transformer = Pipeline([\n",
    "    # ('imputer', SimpleImputer(strategy='median'))\n",
    "])\n",
    "\n",
    "cat_transformer = Pipeline([\n",
    "    ('encoder', OneHotEncoder()),\n",
    "    # (\"selector\", SelectPercentile(chi2, percentile=50))\n",
    "])\n",
    "\n",
    "preprocessor = ColumnTransformer(\n",
    "    transformers=[\n",
    "        # ('num', num_transformer, num_features),\n",
    "        ('cat', cat_transformer, cat_features)\n",
    "    ],\n",
    "    remainder='passthrough'\n",
    ")\n",
    "\n",
    "pipeline = Pipeline([\n",
    "    ('preprocessor', preprocessor),\n",
    "    # ('scaler', 'passthrough'),\n",
    "    # ('classifier', LogisticRegression(solver='liblinear')), # Liblinear seems appropriate for binary classification\n",
    "    ('classifier', XGBClassifier())\n",
    "    # ('classifier', DecisionTreeClassifier())\n",
    "])\n",
    "\n",
    "params = {\n",
    "    # 'scaler': [StandardScaler(), MaxAbsScaler()],\n",
    "    # 'classifier__learning_rate': [0.3, 0.5, 0.7],\n",
    "    'classifier__n_estimators': [\n",
    "        10, \n",
    "        50, \n",
    "        100,\n",
    "        # 150,\n",
    "        # 200\n",
    "    ],\n",
    "    'classifier__max_depth': [\n",
    "        2, \n",
    "        4, \n",
    "        6,\n",
    "        # 8,\n",
    "        # 10\n",
    "    ]\n",
    "}\n",
    "\n",
    "log_reg_params = {\n",
    "    'classifier__C': [\n",
    "        0.01,\n",
    "        0.1,\n",
    "        1,\n",
    "        10,\n",
    "        100\n",
    "    ],\n",
    "    'classifier__penalty': [\n",
    "        'l1',\n",
    "        'l2'\n",
    "    ]\n",
    "}"
   ]
  },
  {
   "cell_type": "code",
   "execution_count": 64,
   "id": "34136990-6900-48fb-b4d3-3a7ce6b4995d",
   "metadata": {},
   "outputs": [
    {
     "ename": "ModuleNotFoundError",
     "evalue": "No module named 'imblearn'",
     "output_type": "error",
     "traceback": [
      "\u001b[0;31m---------------------------------------------------------------------------\u001b[0m",
      "\u001b[0;31mModuleNotFoundError\u001b[0m                       Traceback (most recent call last)",
      "Cell \u001b[0;32mIn[64], line 1\u001b[0m\n\u001b[0;32m----> 1\u001b[0m \u001b[38;5;28;01mfrom\u001b[39;00m \u001b[38;5;21;01mimblearn\u001b[39;00m\u001b[38;5;21;01m.\u001b[39;00m\u001b[38;5;21;01mover_sampling\u001b[39;00m \u001b[38;5;28;01mimport\u001b[39;00m SMOTE\n",
      "\u001b[0;31mModuleNotFoundError\u001b[0m: No module named 'imblearn'"
     ]
    }
   ],
   "source": [
    "from imblearn.over_sampling import SMOTE"
   ]
  },
  {
   "cell_type": "code",
   "execution_count": 60,
   "id": "3692ef72-715c-4c6f-aa32-a3eb4dbaffec",
   "metadata": {},
   "outputs": [
    {
     "ename": "ModuleNotFoundError",
     "evalue": "No module named 'imblearn'",
     "output_type": "error",
     "traceback": [
      "\u001b[0;31m---------------------------------------------------------------------------\u001b[0m",
      "\u001b[0;31mModuleNotFoundError\u001b[0m                       Traceback (most recent call last)",
      "Cell \u001b[0;32mIn[60], line 1\u001b[0m\n\u001b[0;32m----> 1\u001b[0m \u001b[38;5;28;01mfrom\u001b[39;00m \u001b[38;5;21;01mimblearn\u001b[39;00m\u001b[38;5;21;01m.\u001b[39;00m\u001b[38;5;21;01mover_sampling\u001b[39;00m \u001b[38;5;28;01mimport\u001b[39;00m SMOTE\n\u001b[1;32m      3\u001b[0m model \u001b[38;5;241m=\u001b[39m GridSearchCV(\n\u001b[1;32m      4\u001b[0m     estimator\u001b[38;5;241m=\u001b[39mpipeline,\n\u001b[1;32m      5\u001b[0m     param_grid\u001b[38;5;241m=\u001b[39mlog_reg_params, \u001b[38;5;66;03m# Change to params if not logreg\u001b[39;00m\n\u001b[1;32m      6\u001b[0m     scoring\u001b[38;5;241m=\u001b[39m\u001b[38;5;124m'\u001b[39m\u001b[38;5;124mroc_auc\u001b[39m\u001b[38;5;124m'\u001b[39m, \u001b[38;5;66;03m# https://scikit-learn.org/stable/modules/model_evaluation.html#scoring-parameter\u001b[39;00m\n\u001b[1;32m      7\u001b[0m     cv\u001b[38;5;241m=\u001b[39m\u001b[38;5;241m2\u001b[39m\n\u001b[1;32m      8\u001b[0m )\n\u001b[1;32m     10\u001b[0m X \u001b[38;5;241m=\u001b[39m covid\u001b[38;5;241m.\u001b[39mdrop(columns\u001b[38;5;241m=\u001b[39m[\u001b[38;5;124m'\u001b[39m\u001b[38;5;124mencoded_corona_result\u001b[39m\u001b[38;5;124m'\u001b[39m, \u001b[38;5;124m'\u001b[39m\u001b[38;5;124mtest_date\u001b[39m\u001b[38;5;124m'\u001b[39m])\u001b[38;5;241m.\u001b[39mcopy()\n",
      "\u001b[0;31mModuleNotFoundError\u001b[0m: No module named 'imblearn'"
     ]
    }
   ],
   "source": [
    "from imblearn.over_sampling import SMOTE\n",
    "\n",
    "\n",
    "model = GridSearchCV(\n",
    "    estimator=pipeline,\n",
    "    param_grid=log_reg_params, # Change to params if not logreg\n",
    "    scoring='roc_auc', # https://scikit-learn.org/stable/modules/model_evaluation.html#scoring-parameter\n",
    "    cv=2\n",
    ")\n",
    "\n",
    "X = covid.drop(columns=['encoded_corona_result', 'test_date']).copy()\n",
    "y = covid.encoded_corona_result.copy()\n",
    "\n",
    "oversample = SMOTE()\n",
    "X, y = oversample.fit_resample(X, y)\n",
    "print(X.info())\n",
    "print(y.value_counts())\n",
    "X_train, X_test, y_train, y_test = train_test_split(X, y, stratify=y, test_size=0.2, random_state=RANDOM_STATE)\n",
    "\n",
    "# model = XGBClassifier(objective='multi:softmax')\n",
    "# model = DecisionTreeClassifier()\n",
    "model.fit(X_train, y_train)"
   ]
  },
  {
   "cell_type": "code",
   "execution_count": null,
   "id": "030e64de-dc62-4293-b117-59a2a7c1e0bb",
   "metadata": {},
   "outputs": [],
   "source": [
    "model.best_params_"
   ]
  },
  {
   "cell_type": "code",
   "execution_count": 61,
   "id": "3cb78984-6169-4f98-93bf-a935f9918c99",
   "metadata": {},
   "outputs": [
    {
     "name": "stdout",
     "output_type": "stream",
     "text": [
      "Best ROC AUC: 0.8894709471722386\n"
     ]
    }
   ],
   "source": [
    "print(\"Best ROC AUC:\", model.best_score_)"
   ]
  },
  {
   "cell_type": "code",
   "execution_count": 62,
   "id": "817570f6-f65c-49d4-aaa4-86bbbe8577d8",
   "metadata": {},
   "outputs": [],
   "source": [
    "\n",
    "# print(f'ROC AUC score: {roc_auc_score(y_test, model.predict(X_test)):0.4f}')\n",
    "\n",
    "# n_estimators=100, max_depth=6, objective='multi:softmax'"
   ]
  },
  {
   "cell_type": "code",
   "execution_count": 63,
   "id": "3e4d9265-b972-4be1-96aa-fe62262590ce",
   "metadata": {},
   "outputs": [
    {
     "data": {
      "text/plain": [
       "267506    0\n",
       "210664    0\n",
       "33542     0\n",
       "232328    0\n",
       "254684    0\n",
       "         ..\n",
       "87890     0\n",
       "203900    0\n",
       "256779    1\n",
       "271317    0\n",
       "239038    1\n",
       "Name: encoded_corona_result, Length: 54941, dtype: int64"
      ]
     },
     "execution_count": 63,
     "metadata": {},
     "output_type": "execute_result"
    }
   ],
   "source": [
    "y_test"
   ]
  },
  {
   "cell_type": "code",
   "execution_count": 40,
   "id": "3548618c-dc32-4164-bd6e-8ded84ceb8fc",
   "metadata": {},
   "outputs": [],
   "source": [
    "pred = model.predict(X_test)"
   ]
  },
  {
   "cell_type": "code",
   "execution_count": 41,
   "id": "a44a4995-411a-453f-9803-58f0e9439267",
   "metadata": {},
   "outputs": [],
   "source": [
    "predicted_probabilities = model.predict_proba(X_test)"
   ]
  },
  {
   "cell_type": "code",
   "execution_count": 42,
   "id": "07b15fde-2301-4e17-a3ba-d25a03f424f7",
   "metadata": {},
   "outputs": [
    {
     "data": {
      "text/plain": [
       "array([0, 0, 0, ..., 1, 0, 0])"
      ]
     },
     "execution_count": 42,
     "metadata": {},
     "output_type": "execute_result"
    }
   ],
   "source": [
    "pred"
   ]
  },
  {
   "cell_type": "code",
   "execution_count": 43,
   "id": "b4ac07e2-a83e-47e4-8e66-4e75bbf9b080",
   "metadata": {},
   "outputs": [
    {
     "data": {
      "text/plain": [
       "88.58732256993441"
      ]
     },
     "execution_count": 43,
     "metadata": {},
     "output_type": "execute_result"
    }
   ],
   "source": [
    "roc_auc_score(y_test, predicted_probabilities[:, -1])*100"
   ]
  },
  {
   "cell_type": "code",
   "execution_count": 44,
   "id": "09f30f5d-1e0b-47b0-ab78-1b8b4a73df55",
   "metadata": {},
   "outputs": [
    {
     "data": {
      "image/png": "[encoded data removed]",
      "text/plain": [
       "<Figure size 800x600 with 2 Axes>"
      ]
     },
     "metadata": {},
     "output_type": "display_data"
    }
   ],
   "source": [
    "from sklearn.metrics import confusion_matrix\n",
    "import seaborn as sns\n",
    "import matplotlib.pyplot as plt\n",
    "\n",
    "\n",
    "# Number of of TN, FP, FN, TP of predicted diagnoses\n",
    "\n",
    "def plot_confusion_matrix(y_test, predictions):\n",
    "    \"\"\"\n",
    "        Top left - (Negative-Negative) - True Negative\n",
    "        Top right - (Positive-Negative) - False Positive\n",
    "        Bottom left - (Negative-Positive) - False Negative\n",
    "        Bottom right - (Positive-Positive) - True Positive\n",
    "    \n",
    "    \"\"\"\n",
    "    classes = [\"Negative\", \"Positive\"]\n",
    "\n",
    "    matrix = confusion_matrix(y_test, predictions)\n",
    "    plt.figure(figsize=(8, 6))\n",
    "    sns.heatmap(matrix, annot=True, fmt='d', cmap='Blues', xticklabels=classes, yticklabels=classes)\n",
    "    plt.xlabel('Predicted Label')\n",
    "    plt.ylabel('True Label')\n",
    "    plt.title('Confusion Matrix')\n",
    "    plt.show()\n",
    "\n",
    "\n",
    "plot_confusion_matrix(y_test, pred)"
   ]
  },
  {
   "cell_type": "markdown",
   "id": "c5c6e779-f282-4e52-9477-acbe24c12b5b",
   "metadata": {},
   "source": [
    "## Initial interpretation\n",
    "\n",
    "- Model exhibits high performance for correctly classifying negative diagnoses, as expected given the class imbalance.\n",
    "- False positives is low, indicating there are fewer instances of producing false diagnoses.\n",
    "- Significantly more FN than FP - indicating the model is more likely to miss actual positive cases (FN) than to than to misdiagnose (FP)\n",
    "\n",
    "- Expected to see this type of distribution, given the heavy class imbalance\n",
    "- Difference between TP and FN is not that far off, given the small subset of positive diagnoses overall. This is a strong indicator that the model struggles to diagnose for actual positive cases."
   ]
  },
  {
   "cell_type": "code",
   "execution_count": 45,
   "id": "eb9422d7-b2d2-4586-adfb-486b590e7618",
   "metadata": {},
   "outputs": [
    {
     "data": {
      "text/plain": [
       "array([0.01653541, 0.01653541, 0.01653541, ..., 0.99799337, 0.01653541,\n",
       "       0.02518526])"
      ]
     },
     "execution_count": 45,
     "metadata": {},
     "output_type": "execute_result"
    }
   ],
   "source": [
    "predicted_probabilities[:, -1]"
   ]
  },
  {
   "cell_type": "code",
   "execution_count": 46,
   "id": "1332ec64-491d-4167-b037-f4fcaa9f3aa2",
   "metadata": {},
   "outputs": [],
   "source": [
    "from sklearn.metrics import precision_recall_curve\n",
    "\n",
    "precision, recall, thresholds = precision_recall_curve(y_test, predicted_probabilities[:, -1])"
   ]
  },
  {
   "cell_type": "code",
   "execution_count": 47,
   "id": "82c80a66-9e54-45b8-b397-af0607e09b50",
   "metadata": {},
   "outputs": [
    {
     "data": {
      "text/plain": [
       "267506    0\n",
       "210664    0\n",
       "33542     0\n",
       "232328    0\n",
       "254684    0\n",
       "         ..\n",
       "87890     0\n",
       "203900    0\n",
       "256779    1\n",
       "271317    0\n",
       "239038    1\n",
       "Name: encoded_corona_result, Length: 54941, dtype: int64"
      ]
     },
     "execution_count": 47,
     "metadata": {},
     "output_type": "execute_result"
    }
   ],
   "source": [
    "y_test"
   ]
  },
  {
   "cell_type": "code",
   "execution_count": 48,
   "id": "0ed36e30-05f4-402f-9be3-0dc493e06ce5",
   "metadata": {},
   "outputs": [],
   "source": [
    "def plot_precision_recall(precision, recall, thresholds):\n",
    "    plt.figure(figsize=(8, 6))\n",
    "    plt.plot(recall, precision, marker='.', label='Precision-Recall Curve')\n",
    "    plt.xlabel('Recall')\n",
    "    plt.ylabel('Precision')\n",
    "    plt.title('Precision-Recall Curve')\n",
    "    plt.legend()\n",
    "    plt.grid(True)\n",
    "    plt.show()"
   ]
  },
  {
   "cell_type": "code",
   "execution_count": 49,
   "id": "b4434c76-e109-4906-a3f7-0e7a64df9f8f",
   "metadata": {},
   "outputs": [
    {
     "data": {
      "image/png": "[encoded data removed]",
      "text/plain": [
       "<Figure size 800x600 with 1 Axes>"
      ]
     },
     "metadata": {},
     "output_type": "display_data"
    }
   ],
   "source": [
    "plot_precision_recall(*precision_recall_curve(y_test, predicted_probabilities[:, -1]))"
   ]
  },
  {
   "cell_type": "code",
   "execution_count": null,
   "id": "099ef927-9f35-457e-a581-76e93231059d",
   "metadata": {},
   "outputs": [],
   "source": []
  },
  {
   "cell_type": "code",
   "execution_count": null,
   "id": "83bf7418-a618-47ec-b5bb-d7e3a45dfc35",
   "metadata": {},
   "outputs": [],
   "source": []
  }
 ],
 "metadata": {
  "kernelspec": {
   "display_name": "Python 3 (ipykernel)",
   "language": "python",
   "name": "python3"
  },
  "language_info": {
   "codemirror_mode": {
    "name": "ipython",
    "version": 3
   },
   "file_extension": ".py",
   "mimetype": "text/x-python",
   "name": "python",
   "nbconvert_exporter": "python",
   "pygments_lexer": "ipython3",
   "version": "3.11.7"
  },
  "widgets": {
   "application/vnd.jupyter.widget-state+json": {
    "state": {},
    "version_major": 2,
    "version_minor": 0
   }
  }
 },
 "nbformat": 4,
 "nbformat_minor": 5
}
