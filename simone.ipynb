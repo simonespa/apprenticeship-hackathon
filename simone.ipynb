{
 "cells": [
  {
   "cell_type": "markdown",
   "id": "4856f239-2302-4dec-a5b9-2413762b3ae6",
   "metadata": {},
   "source": [
    "# Hackathon\n",
    "\n",
    "The L7 AI Hackathon will give you an opportunity to work in a team of four/five to test your new data science and ML skills. You will be required to deliver a 15mins presentation (10mins presentation and 5mins for Q&A) about your learning journey in the programme & the outcome of your work.\n",
    "\n",
    "You are going to be provided with a sample of possible questions to investigate and tasks to undertake. However, you are free to design your own tasks as a team and augment the initial datasets for your own analysis.\n",
    "\n",
    "In this hackathon, we want you to build machine learning models to predict COVID-19 infections from symptoms. It has several applications – for example, triaging patients to be attended by a doctor or nurse, recommending self-isolation through contact tracing apps, etc.\n",
    "\n",
    "Zoabi et al. ([link here](https://www.nature.com/articles/s41746-020-00372-6)) [1] builds a decision tree classifier using the publicly available data reported by the Israeli Ministry of Health. The paper itself discusses the various challenges encountered in deploying such a model. We encourage you to read the paper and learn the challenges and ways to overcome them. We will be using the dataset in this paper (Github link in the references).\n",
    "\n",
    "## References\n",
    "\n",
    "[1] Zoabi, Y., Deri-Rozov, S. & Shomron, N. Machine learning-based prediction of COVID-19 diagnosis based on symptoms. npj Digit. Med. 4, 3 (2021).\n",
    "\n",
    "[2] [Github link](https://github.com/nshomron/covidpred/tree/master) referenced in the paper. The main page of the Github repository mentions that the data file, `corona_tested_individuals_ver_006.english.csv.zip` was the version they used for the analysis. It is also the version we will use for this hackathon.\n",
    "\n",
    "## Presentation\n",
    "\n",
    "On Day 2, between 3-5PM, your team will deliver a presentation of your findings and experience for 10 minutes followed by 5 minutes of Q&A from your peers.\n",
    "\n",
    "The presentation should cover (non-exhaustively) the following components:\n",
    "\n",
    "- Briefly define the problem\n",
    "- Briefly describe the dataset\n",
    "- What did you learn about various models/techniques/etc.?\n",
    "- What’s the AUC score of your final model?\n",
    "\n",
    "Below are a list of potential questions and directions that you can explore but you are free and encouraged to be creative and explore other directions to apply your ML skills\n",
    "\n",
    "## Exploratory Data Analysis\n",
    "\n",
    "- Think about possible biases and limitations of this dataset. What are the sources of uncertainty?\n",
    "- What is the format of feature values?\n",
    "- What is the statistics of these feature values? How many symptoms are reported or not?\n",
    "- Which symptoms have a reporting bias, i.e., likely to be reported when the patient is COVID positive?\n",
    "- How will the symptoms with reporting bias affect the model’s performance?\n",
    "- Visualization: Draw the bar graph of features grouped by the target class?\n",
    "- What does the bar graph of the symptoms with reporting bias look like?\n",
    "- Determine if we have a class imbalance in the dataset? If so, what do you reckon will be the downstream challenges in evaluating the model? How will you overcome those challenges?\n",
    "\n",
    "## Feature Engineering\n",
    "\n",
    "- How will you represent the features in numerical format that can be accessible by model?\n",
    "- Are there any redundancies in your feature representation?\n",
    "\n",
    "## Models\n",
    "\n",
    "- Check out various classifiers in sklearn or any other preferred library to build your models\n",
    "\n",
    "## Evaluate\n",
    "\n",
    "- Is accuracy the right metric to evaluate the model? Are inaccuracies correctly penalized in the accuracy metric?\n",
    "- Which dataset should you choose to evaluate the model? Validation or Test?\n",
    "- What other metric is relevant in our context?\n",
    "\n",
    "For benchmarking everyone’s results we will stick to ROC-AUC score as a metric.\n",
    "\n",
    "## Report your result\n",
    "\n",
    "- With the metric chosen, report your result on the test dataset.\n",
    "- How will you select the threshold for your model above which model score will be interpreted as a prediction of positive diagnosis.\n",
    "\n",
    "## Extras\n",
    "\n",
    "- Dimensionality Reduction for fun: Can you reduce the dimension to just 2 dimensions and check if the inputs corresponding to different classes belong to different clusters? Try using t-SNE or UMAP for that purpose.\n",
    "- Collaborate with Ensemble: Can you combine other models?"
   ]
  },
  {
   "cell_type": "markdown",
   "id": "ac7f4693-c680-40e6-b983-29b236d4ac8e",
   "metadata": {},
   "source": [
    "# Start"
   ]
  },
  {
   "cell_type": "code",
   "execution_count": 55,
   "id": "4e9f2902-b646-4e42-bb87-92a7c1d082cb",
   "metadata": {},
   "outputs": [],
   "source": [
    "import pandas as pd\n",
    "\n",
    "random_state=137"
   ]
  },
  {
   "cell_type": "code",
   "execution_count": 56,
   "id": "0e4f6ecf-3786-47ac-ad9f-f637abba0bb6",
   "metadata": {},
   "outputs": [
    {
     "name": "stderr",
     "output_type": "stream",
     "text": [
      "/var/folders/dn/txgjlvlj7mbbw71k0lnm7j3spqbny6/T/ipykernel_83814/4200372393.py:1: DtypeWarning: Columns (7) have mixed types. Specify dtype option on import or set low_memory=False.\n",
      "  covid = pd.read_csv('data/corona_tested_individuals_ver_006.english.csv')\n"
     ]
    }
   ],
   "source": [
    "covid = pd.read_csv('data/corona_tested_individuals_ver_006.english.csv')"
   ]
  },
  {
   "cell_type": "code",
   "execution_count": 72,
   "id": "984d770e-c97b-41a0-b4a5-9629aeff107a",
   "metadata": {},
   "outputs": [
    {
     "name": "stdout",
     "output_type": "stream",
     "text": [
      "<class 'pandas.core.frame.DataFrame'>\n",
      "RangeIndex: 278848 entries, 0 to 278847\n",
      "Data columns (total 10 columns):\n",
      " #   Column               Non-Null Count   Dtype        \n",
      "---  ------               --------------   -----        \n",
      " 0   test_date            278848 non-null  datetime64[s]\n",
      " 1   cough                278596 non-null  float16      \n",
      " 2   fever                278596 non-null  float16      \n",
      " 3   sore_throat          278847 non-null  float16      \n",
      " 4   shortness_of_breath  278847 non-null  float16      \n",
      " 5   head_ache            278847 non-null  float16      \n",
      " 6   corona_result        278848 non-null  category     \n",
      " 7   age_60_and_above     151528 non-null  category     \n",
      " 8   gender               259285 non-null  category     \n",
      " 9   test_indication      278848 non-null  category     \n",
      "dtypes: category(4), datetime64[s](1), float16(5)\n",
      "memory usage: 5.9 MB\n"
     ]
    }
   ],
   "source": [
    "covid = covid.astype({\n",
    "    'test_date': 'datetime64[s]',\n",
    "    'cough': 'float16',\n",
    "    'fever': 'float16',\n",
    "    'sore_throat': 'float16',\n",
    "    'shortness_of_breath': 'float16',\n",
    "    'head_ache': 'float16',\n",
    "    'corona_result': 'category',\n",
    "    'age_60_and_above': 'category',\n",
    "    'gender': 'category',\n",
    "    'test_indication': 'category'\n",
    "})\n",
    "covid.info()"
   ]
  },
  {
   "cell_type": "code",
   "execution_count": 81,
   "id": "e77c7701-f033-486e-8a25-3dc0e17a3112",
   "metadata": {},
   "outputs": [
    {
     "data": {
      "text/html": [
       "<div>\n",
       "<style scoped>\n",
       "    .dataframe tbody tr th:only-of-type {\n",
       "        vertical-align: middle;\n",
       "    }\n",
       "\n",
       "    .dataframe tbody tr th {\n",
       "        vertical-align: top;\n",
       "    }\n",
       "\n",
       "    .dataframe thead th {\n",
       "        text-align: right;\n",
       "    }\n",
       "</style>\n",
       "<table border=\"1\" class=\"dataframe\">\n",
       "  <thead>\n",
       "    <tr style=\"text-align: right;\">\n",
       "      <th></th>\n",
       "      <th>NaN</th>\n",
       "    </tr>\n",
       "  </thead>\n",
       "  <tbody>\n",
       "    <tr>\n",
       "      <th>age_60_and_above</th>\n",
       "      <td>127320</td>\n",
       "    </tr>\n",
       "    <tr>\n",
       "      <th>gender</th>\n",
       "      <td>19563</td>\n",
       "    </tr>\n",
       "    <tr>\n",
       "      <th>cough</th>\n",
       "      <td>252</td>\n",
       "    </tr>\n",
       "    <tr>\n",
       "      <th>fever</th>\n",
       "      <td>252</td>\n",
       "    </tr>\n",
       "    <tr>\n",
       "      <th>sore_throat</th>\n",
       "      <td>1</td>\n",
       "    </tr>\n",
       "    <tr>\n",
       "      <th>shortness_of_breath</th>\n",
       "      <td>1</td>\n",
       "    </tr>\n",
       "    <tr>\n",
       "      <th>head_ache</th>\n",
       "      <td>1</td>\n",
       "    </tr>\n",
       "    <tr>\n",
       "      <th>test_date</th>\n",
       "      <td>0</td>\n",
       "    </tr>\n",
       "    <tr>\n",
       "      <th>corona_result</th>\n",
       "      <td>0</td>\n",
       "    </tr>\n",
       "    <tr>\n",
       "      <th>test_indication</th>\n",
       "      <td>0</td>\n",
       "    </tr>\n",
       "  </tbody>\n",
       "</table>\n",
       "</div>"
      ],
      "text/plain": [
       "                        NaN\n",
       "age_60_and_above     127320\n",
       "gender                19563\n",
       "cough                   252\n",
       "fever                   252\n",
       "sore_throat               1\n",
       "shortness_of_breath       1\n",
       "head_ache                 1\n",
       "test_date                 0\n",
       "corona_result             0\n",
       "test_indication           0"
      ]
     },
     "execution_count": 81,
     "metadata": {},
     "output_type": "execute_result"
    }
   ],
   "source": [
    "pd.DataFrame(covid.isna().sum(), columns=['NaN']).sort_values(by='NaN', ascending=False)"
   ]
  },
  {
   "cell_type": "code",
   "execution_count": 95,
   "id": "2118b885-414a-4400-81bd-5c1d3060d17d",
   "metadata": {},
   "outputs": [
    {
     "data": {
      "text/plain": [
       "test_indication\n",
       "Other                     242741\n",
       "Abroad                     25468\n",
       "Contact with confirmed     10639\n",
       "Name: count, dtype: int64"
      ]
     },
     "execution_count": 95,
     "metadata": {},
     "output_type": "execute_result"
    }
   ],
   "source": [
    "covid.test_indication.value_counts(dropna=False)"
   ]
  },
  {
   "cell_type": "code",
   "execution_count": 18,
   "id": "d902dafb-d0cc-426f-8e49-43ab27c2bec2",
   "metadata": {},
   "outputs": [],
   "source": [
    "from sklearn.tree import DecisionTreeClassifier\n",
    "from sklearn.preprocessing import OneHotEncoder\n",
    "from sklearn.model_selection import train_test_split"
   ]
  },
  {
   "cell_type": "code",
   "execution_count": 22,
   "id": "38fe799e-d889-4c8f-b77c-a830794ebb1e",
   "metadata": {},
   "outputs": [
    {
     "name": "stdout",
     "output_type": "stream",
     "text": [
      "<class 'pandas.core.frame.DataFrame'>\n",
      "RangeIndex: 278848 entries, 0 to 278847\n",
      "Data columns (total 10 columns):\n",
      " #   Column               Non-Null Count   Dtype  \n",
      "---  ------               --------------   -----  \n",
      " 0   test_date            278848 non-null  object \n",
      " 1   cough                278596 non-null  float64\n",
      " 2   fever                278596 non-null  float64\n",
      " 3   sore_throat          278847 non-null  float64\n",
      " 4   shortness_of_breath  278847 non-null  float64\n",
      " 5   head_ache            278847 non-null  float64\n",
      " 6   corona_result        278848 non-null  object \n",
      " 7   age_60_and_above     151528 non-null  object \n",
      " 8   gender               259285 non-null  object \n",
      " 9   test_indication      278848 non-null  object \n",
      "dtypes: float64(5), object(5)\n",
      "memory usage: 21.3+ MB\n"
     ]
    }
   ],
   "source": [
    "covid.info()"
   ]
  },
  {
   "cell_type": "code",
   "execution_count": 33,
   "id": "e69a2aa4-fedb-4be3-83a2-1e5c7e315ed9",
   "metadata": {},
   "outputs": [
    {
     "name": "stderr",
     "output_type": "stream",
     "text": [
      "/var/folders/dn/txgjlvlj7mbbw71k0lnm7j3spqbny6/T/ipykernel_83814/3049383563.py:1: FutureWarning: Downcasting behavior in `replace` is deprecated and will be removed in a future version. To retain the old behavior, explicitly call `result.infer_objects(copy=False)`. To opt-in to the future behavior, set `pd.set_option('future.no_silent_downcasting', True)`\n",
      "  covid = covid.replace({\n"
     ]
    }
   ],
   "source": [
    "covid = covid.replace({\n",
    "    'corona_result': {\n",
    "        'negative': 0,\n",
    "        'positive': 1,\n",
    "        'other': 2\n",
    "    }\n",
    "})"
   ]
  },
  {
   "cell_type": "code",
   "execution_count": 34,
   "id": "167b98dc-271a-465f-8065-527f12e2d44f",
   "metadata": {},
   "outputs": [],
   "source": [
    "X = covid.drop(columns=['corona_result'])\n",
    "y = covid.corona_result"
   ]
  },
  {
   "cell_type": "code",
   "execution_count": 35,
   "id": "4c424e2b-1779-4ed3-a774-fb7da33e85a5",
   "metadata": {},
   "outputs": [],
   "source": [
    "X_train, X_test, y_train, y_test = train_test_split(X, y, stratify=y, test_size=0.2, random_state=137)"
   ]
  },
  {
   "cell_type": "code",
   "execution_count": 36,
   "id": "7e0fc887-6695-4d23-a58c-090d7c1e3fd5",
   "metadata": {},
   "outputs": [
    {
     "data": {
      "text/plain": [
       "corona_result\n",
       "0    0.933222\n",
       "1    0.052821\n",
       "2    0.013957\n",
       "Name: proportion, dtype: float64"
      ]
     },
     "execution_count": 36,
     "metadata": {},
     "output_type": "execute_result"
    }
   ],
   "source": [
    "y.value_counts(normalize=True)"
   ]
  },
  {
   "cell_type": "code",
   "execution_count": 37,
   "id": "f1a828cd-397f-42f5-87c3-7767b76e1937",
   "metadata": {},
   "outputs": [
    {
     "data": {
      "text/plain": [
       "corona_result\n",
       "0    0.933221\n",
       "1    0.052820\n",
       "2    0.013959\n",
       "Name: proportion, dtype: float64"
      ]
     },
     "execution_count": 37,
     "metadata": {},
     "output_type": "execute_result"
    }
   ],
   "source": [
    "y_train.value_counts(normalize=True)"
   ]
  },
  {
   "cell_type": "code",
   "execution_count": 38,
   "id": "2c7864a5-b03e-423c-b22e-50c51733f5d7",
   "metadata": {},
   "outputs": [
    {
     "data": {
      "text/plain": [
       "corona_result\n",
       "0    0.933226\n",
       "1    0.052824\n",
       "2    0.013950\n",
       "Name: proportion, dtype: float64"
      ]
     },
     "execution_count": 38,
     "metadata": {},
     "output_type": "execute_result"
    }
   ],
   "source": [
    "y_test.value_counts(normalize=True)"
   ]
  },
  {
   "cell_type": "code",
   "execution_count": 41,
   "id": "3692ef72-715c-4c6f-aa32-a3eb4dbaffec",
   "metadata": {},
   "outputs": [],
   "source": [
    "from sklearn.pipeline import Pipeline\n",
    "\n",
    "from sklearn.impute import SimpleImputer\n",
    "\n",
    "from sklearn.preprocessing import OneHotEncoder\n",
    "from sklearn.preprocessing import StandardScaler\n",
    "from sklearn.preprocessing import MaxAbsScaler\n",
    "\n",
    "from sklearn.compose import ColumnTransformer\n",
    "\n",
    "from sklearn.model_selection import GridSearchCV\n",
    "from sklearn.model_selection import train_test_split\n",
    "\n",
    "# Models\n",
    "from xgboost import XGBClassifier\n",
    "from sklearn.tree import DecisionTreeClassifier\n",
    "\n",
    "# Evaluation Metric\n",
    "from sklearn.metrics import roc_auc_score\n",
    "\n",
    "num_features = []\n",
    "cat_features = []\n",
    "\n",
    "num_transformer = Pipeline([\n",
    "    # ('imputer', SimpleImputer(strategy='median'))\n",
    "])\n",
    "\n",
    "cat_transformer = Pipeline([\n",
    "    # ('encoder', OneHotEncoder(handle_unknown='ignore')),\n",
    "    # (\"selector\", SelectPercentile(chi2, percentile=50))\n",
    "])\n",
    "\n",
    "preprocessor = ColumnTransformer(\n",
    "    transformers=[\n",
    "        ('num', num_transformer, num_features),\n",
    "        ('cat', cat_transformer, cat_features)\n",
    "    ]\n",
    ")\n",
    "\n",
    "pipeline = Pipeline([\n",
    "    ('preprocessor', preprocessor),\n",
    "    ('scaler', 'passthrough'),\n",
    "    ('classifier', XGBClassifier(objective='multi:softmax'))\n",
    "])\n",
    "\n",
    "params = {\n",
    "    'scaler': [StandardScaler(with_mean=False), MaxAbsScaler()],\n",
    "    'classifier__learning_rate': [0.3, 0.5, 0.7],\n",
    "    'classifier__n_estimators': [10, 50, 100]\n",
    "    'classifier__max_depth': [2, 4, 6]\n",
    "}\n",
    "\n",
    "model = GridSearchCV(\n",
    "    estimator=pipeline,\n",
    "    param_grid=params,\n",
    "    scoring='roc_auc', # https://scikit-learn.org/stable/modules/model_evaluation.html#scoring-parameter\n",
    "    cv=3\n",
    ")\n",
    "\n",
    "# X_dev, X_val, y_dev, y_val = train_test_split(X_train, y_train, test_size=0.1, stratify=y_train, random_state=31)\n",
    "\n",
    "# model.fit(X_dev, y_dev)\n",
    "\n",
    "# print(model.best_params_)\n",
    "\n",
    "# print(f'Model Accuracy Score: {accuracy_score(y_val, model.predict(X_val)):0.4f}')\n",
    "\n",
    "# n_estimators=100, max_depth=6, objective='multi:softmax'"
   ]
  }
 ],
 "metadata": {
  "kernelspec": {
   "display_name": "Python 3 (ipykernel)",
   "language": "python",
   "name": "python3"
  },
  "language_info": {
   "codemirror_mode": {
    "name": "ipython",
    "version": 3
   },
   "file_extension": ".py",
   "mimetype": "text/x-python",
   "name": "python",
   "nbconvert_exporter": "python",
   "pygments_lexer": "ipython3",
   "version": "3.11.7"
  },
  "widgets": {
   "application/vnd.jupyter.widget-state+json": {
    "state": {},
    "version_major": 2,
    "version_minor": 0
   }
  }
 },
 "nbformat": 4,
 "nbformat_minor": 5
}
