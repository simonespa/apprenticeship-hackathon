{
 "cells": [
  {
   "cell_type": "markdown",
   "source": [
    "# Pipeline"
   ],
   "metadata": {
    "collapsed": false
   },
   "id": "553542e21124fb8c"
  },
  {
   "cell_type": "code",
   "execution_count": 24,
   "id": "4e9f2902-b646-4e42-bb87-92a7c1d082cb",
   "metadata": {
    "ExecuteTime": {
     "end_time": "2024-02-14T17:11:24.939959510Z",
     "start_time": "2024-02-14T17:11:24.936037450Z"
    }
   },
   "outputs": [],
   "source": [
    "import pandas as pd\n",
    "\n",
    "RANDOM_STATE=137"
   ]
  },
  {
   "cell_type": "code",
   "outputs": [],
   "source": [
    "covid = pd.read_csv('data/corona_tested_individuals_ver_006.english.csv', dtype={\n",
    "    'age_60_and_above': 'str'\n",
    "})"
   ],
   "metadata": {
    "collapsed": false
   },
   "id": "9cca96c8e7c48c8a"
  },
  {
   "cell_type": "code",
   "outputs": [],
   "source": [
    "covid.info()"
   ],
   "metadata": {
    "collapsed": false
   },
   "id": "977873aa01672630"
  },
  {
   "cell_type": "code",
   "outputs": [],
   "source": [
    "# covid = covid.drop(columns=['age_60_and_above', 'gender', 'test_date'])"
   ],
   "metadata": {
    "collapsed": false
   },
   "id": "80eebef14c50272f"
  },
  {
   "cell_type": "code",
   "outputs": [],
   "source": [
    "from sklearn.pipeline import Pipeline\n",
    "\n",
    "from sklearn.impute import SimpleImputer\n",
    "\n",
    "from sklearn.preprocessing import OneHotEncoder\n",
    "from sklearn.preprocessing import StandardScaler\n",
    "from sklearn.preprocessing import MaxAbsScaler\n",
    "\n",
    "from sklearn.compose import ColumnTransformer\n",
    "\n",
    "from sklearn.model_selection import GridSearchCV\n",
    "from sklearn.model_selection import train_test_split\n",
    "\n",
    "# Models\n",
    "from xgboost import XGBClassifier\n",
    "from sklearn.tree import DecisionTreeClassifier\n",
    "\n",
    "# Evaluation Metric\n",
    "from sklearn.metrics import roc_auc_score\n",
    "\n",
    "num_features = ['cough', 'fever', 'sore_throat', 'shortness_of_breath', 'head_ache']\n",
    "cat_features = [\n",
    "    'test_indication',\n",
    "    # 'age_60_and_above',\n",
    "    # 'gender'\n",
    "]\n",
    "\n",
    "num_transformer = Pipeline([\n",
    "    # ('imputer', SimpleImputer(strategy='median'))\n",
    "])\n",
    "\n",
    "cat_transformer = Pipeline([\n",
    "    ('encoder', OneHotEncoder()),\n",
    "    # (\"selector\", SelectPercentile(chi2, percentile=50))\n",
    "])\n",
    "\n",
    "preprocessor = ColumnTransformer(\n",
    "    transformers=[\n",
    "        # ('num', num_transformer, num_features),\n",
    "        ('cat', cat_transformer, cat_features)\n",
    "    ],\n",
    "    remainder='passthrough'\n",
    ")\n",
    "\n",
    "pipeline = Pipeline([\n",
    "    ('preprocessor', preprocessor),\n",
    "    ('scaler', 'passthrough'),\n",
    "    # ('classifier', XGBClassifier())\n",
    "    ('classifier', DecisionTreeClassifier())\n",
    "])\n",
    "\n",
    "params = {\n",
    "    'scaler': [StandardScaler(), MaxAbsScaler()],\n",
    "    # 'classifier__learning_rate': [0.3, 0.5, 0.7],\n",
    "    'classifier__n_estimators': [10, 50, 100]\n",
    "    'classifier__max_depth': [2, 4, 6]\n",
    "}\n",
    "\n",
    "model = GridSearchCV(\n",
    "    estimator=pipeline,\n",
    "    param_grid=params,\n",
    "    scoring='roc_auc', # https://scikit-learn.org/stable/modules/model_evaluation.html#scoring-parameter\n",
    "    cv=2\n",
    ")\n",
    "\n",
    "X = covid.drop(columns=['encoded_corona_result', 'test_date']).copy()\n",
    "y = covid.encoded_corona_result.copy()\n",
    "\n",
    "X_train, X_test, y_train, y_test = train_test_split(X, y, stratify=y, test_size=0.2, random_state=RANDOM_STATE)\n",
    "\n",
    "# model = XGBClassifier(objective='multi:softmax')\n",
    "# model = DecisionTreeClassifier()\n",
    "model.fit(X_train, y_train)"
   ],
   "metadata": {
    "collapsed": false
   },
   "id": "1d8d400f73affe7d"
  },
  {
   "cell_type": "code",
   "outputs": [],
   "source": [
    "model.best_params_"
   ],
   "metadata": {
    "collapsed": false
   },
   "id": "8b885171f7439ec0"
  },
  {
   "cell_type": "code",
   "outputs": [],
   "source": [
    "\n",
    "# print(f'ROC AUC score: {roc_auc_score(y_test, model.predict(X_test)):0.4f}')\n",
    "\n",
    "# n_estimators=100, max_depth=6, objective='multi:softmax'"
   ],
   "metadata": {
    "collapsed": false
   },
   "id": "f3b76a9cbb1ae63d"
  },
  {
   "cell_type": "code",
   "outputs": [],
   "source": [
    "y_test"
   ],
   "metadata": {
    "collapsed": false
   },
   "id": "9093bd13aa90555a"
  },
  {
   "cell_type": "code",
   "outputs": [],
   "source": [
    "pred = model.predict(X_test)"
   ],
   "metadata": {
    "collapsed": false
   },
   "id": "5a18d07f19b00b10"
  },
  {
   "cell_type": "code",
   "outputs": [],
   "source": [
    "predicted_probabilities = model.predict_proba(X_test)"
   ],
   "metadata": {
    "collapsed": false
   },
   "id": "44a00ac695822949"
  },
  {
   "cell_type": "code",
   "outputs": [],
   "source": [
    "pred"
   ],
   "metadata": {
    "collapsed": false
   },
   "id": "1f5e504fd4ce835"
  },
  {
   "cell_type": "code",
   "outputs": [],
   "source": [
    "roc_auc_score(y_test, predicted_probabilities[:, -1])*100"
   ],
   "metadata": {
    "collapsed": false
   },
   "id": "75b9c6ad7845890a"
  },
  {
   "cell_type": "code",
   "outputs": [],
   "source": [
    "from sklearn.metrics import confusion_matrix\n",
    "import seaborn as sns\n",
    "import matplotlib.pyplot as plt\n",
    "\n",
    "\n",
    "# Number of of TN, FP, FN, TP of predicted diagnoses\n",
    "\n",
    "def plot_confusion_matrix(y_test, predictions):\n",
    "    \"\"\"\n",
    "        Top left - (Negative-Negative) - True Negative\n",
    "        Top right - (Positive-Negative) - False Positive\n",
    "        Bottom left - (Negative-Positive) - False Negative\n",
    "        Bottom right - (Positive-Positive) - True Positive\n",
    "\n",
    "    \"\"\"\n",
    "    classes = [\"Negative\", \"Positive\"]\n",
    "\n",
    "    matrix = confusion_matrix(y_test, predictions)\n",
    "    plt.figure(figsize=(8, 6))\n",
    "    sns.heatmap(matrix, annot=True, fmt='d', cmap='Blues', xticklabels=classes, yticklabels=classes)\n",
    "    plt.xlabel('Predicted Label')\n",
    "    plt.ylabel('True Label')\n",
    "    plt.title('Confusion Matrix')\n",
    "    plt.show()\n",
    "\n",
    "\n",
    "plot_confusion_matrix(y_test, pred)"
   ],
   "metadata": {
    "collapsed": false
   },
   "id": "7da420d7e2f5f7a5"
  },
  {
   "cell_type": "markdown",
   "source": [
    "## Initial interpretation\n",
    "\n",
    "- Model exhibits high performance for correctly classifying negative diagnoses, as expected given the class imbalance.\n",
    "- False positives is low, indicating there are fewer instances of producing false diagnoses.\n",
    "- Significantly more FN than FP - indicating the model is more likely to miss actual positive cases (FN) than to than to misdiagnose (FP)\n",
    "\n",
    "- Expected to see this type of distribution, given the heavy class imbalance\n",
    "- Difference between TP and FP is not that far off, given the small subset of positive diagnoses overall. This is a strong indicator that the model struggles to diagnose for actual positive cases."
   ],
   "metadata": {
    "collapsed": false
   },
   "id": "9eb130faea6493a2"
  },
  {
   "cell_type": "code",
   "outputs": [],
   "source": [],
   "metadata": {
    "collapsed": false
   },
   "id": "794f8574201b87c2"
  }
 ],
 "metadata": {
  "kernelspec": {
   "display_name": "Python 3 (ipykernel)",
   "language": "python",
   "name": "python3"
  },
  "language_info": {
   "codemirror_mode": {
    "name": "ipython",
    "version": 3
   },
   "file_extension": ".py",
   "mimetype": "text/x-python",
   "name": "python",
   "nbconvert_exporter": "python",
   "pygments_lexer": "ipython3",
   "version": "3.11.7"
  },
  "widgets": {
   "application/vnd.jupyter.widget-state+json": {
    "state": {},
    "version_major": 2,
    "version_minor": 0
   }
  }
 },
 "nbformat": 4,
 "nbformat_minor": 5
}
